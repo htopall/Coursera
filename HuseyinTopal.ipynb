{
 "cells": [
  {
   "cell_type": "markdown",
   "id": "b222696c-0b30-48bf-929c-2075ec3d5838",
   "metadata": {},
   "source": [
    "# Data Science Notebook"
   ]
  },
  {
   "cell_type": "markdown",
   "id": "6b334e89-fbe7-4010-a1c5-fcb3ee77fb89",
   "metadata": {},
   "source": [
    "## Introduction\n",
    "This notebook contains basic information about data science tools, languages, and libraries."
   ]
  },
  {
   "cell_type": "markdown",
   "id": "83058f6d-17bf-4ac6-a21c-86307313c3d2",
   "metadata": {},
   "source": [
    "## Data Science Languages\n",
    "- Python\n",
    "- R\n",
    "- SQL\n",
    "- Julia\n",
    "- Scala\n"
   ]
  },
  {
   "cell_type": "markdown",
   "id": "c0f5c2a1-df54-4770-9775-96a863cc9b7e",
   "metadata": {},
   "source": [
    "## Data Science Libraries\n",
    "- NumPy\n",
    "- Pandas\n",
    "- Matplotlib\n",
    "- Scikit-Learn\n",
    "- TensorFlow\n"
   ]
  },
  {
   "cell_type": "markdown",
   "id": "1f8fb978-381f-4cbf-a5fc-c628423d6d29",
   "metadata": {},
   "source": [
    "## Data Science Tools\n",
    "\n",
    "| Tool          | Description                                |\n",
    "|---------------|--------------------------------------------|\n",
    "| Jupyter       | Interactive computing environment          |\n",
    "| RStudio       | IDE for R programming                      |\n",
    "| Apache Spark  | Big data processing framework              |\n",
    "| TensorFlow    | Machine learning library                   |\n",
    "| Tableau       | Data visualization tool                    |\n"
   ]
  },
  {
   "cell_type": "markdown",
   "id": "f63387b7-0038-46bf-a6db-3e5e9439c2b1",
   "metadata": {},
   "source": [
    "## Arithmetic Expression Examples\n",
    "Below are examples of basic arithmetic operations.\n"
   ]
  },
  {
   "cell_type": "code",
   "execution_count": 8,
   "id": "937b21e4-7918-486e-a88d-7c791438920b",
   "metadata": {},
   "outputs": [
    {
     "data": {
      "text/plain": [
       "(35, 12)"
      ]
     },
     "execution_count": 8,
     "metadata": {},
     "output_type": "execute_result"
    }
   ],
   "source": [
    "# Multiplication and addition operations\n",
    "multiplication = 5 * 7\n",
    "addition = 5 + 7\n",
    "multiplication, addition\n"
   ]
  },
  {
   "cell_type": "code",
   "execution_count": 10,
   "id": "7e33d4b7-bfe9-461a-9067-c057151f74fc",
   "metadata": {},
   "outputs": [
    {
     "data": {
      "text/plain": [
       "2.0"
      ]
     },
     "execution_count": 10,
     "metadata": {},
     "output_type": "execute_result"
    }
   ],
   "source": [
    "# Convert minutes to hours\n",
    "minutes = 120\n",
    "hours = minutes / 60\n",
    "hours\n"
   ]
  },
  {
   "cell_type": "markdown",
   "id": "c3b0b3e7-fa02-4810-baad-2e01b844bdcc",
   "metadata": {},
   "source": [
    "## Goals\n",
    "- Learn about data science tools\n",
    "- Develop data visualization skills\n",
    "- Understand machine learning models"
   ]
  },
  {
   "cell_type": "markdown",
   "id": "a0189a2d-784a-4197-ae16-45e456b8e8ae",
   "metadata": {},
   "source": [
    "## Author\n",
    "Huseyin Topal\n"
   ]
  },
  {
   "cell_type": "code",
   "execution_count": null,
   "id": "ac508c9d-2d03-4206-8140-f8965dd257c3",
   "metadata": {},
   "outputs": [],
   "source": []
  }
 ],
 "metadata": {
  "kernelspec": {
   "display_name": "Python 3 (ipykernel)",
   "language": "python",
   "name": "python3"
  },
  "language_info": {
   "codemirror_mode": {
    "name": "ipython",
    "version": 3
   },
   "file_extension": ".py",
   "mimetype": "text/x-python",
   "name": "python",
   "nbconvert_exporter": "python",
   "pygments_lexer": "ipython3",
   "version": "3.12.7"
  }
 },
 "nbformat": 4,
 "nbformat_minor": 5
}
